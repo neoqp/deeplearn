{
 "cells": [
  {
   "cell_type": "code",
   "execution_count": 49,
   "metadata": {},
   "outputs": [],
   "source": [
    "import torch\n",
    "import torch.nn as nn\n",
    "import torchvision\n",
    "from torch.utils.data import DataLoader\n",
    "from torchvision.utils import save_image"
   ]
  },
  {
   "cell_type": "code",
   "execution_count": 50,
   "metadata": {},
   "outputs": [],
   "source": [
    "device = 'cuda'"
   ]
  },
  {
   "cell_type": "code",
   "execution_count": 51,
   "metadata": {},
   "outputs": [],
   "source": [
    "batch_size = 256\n",
    "\n",
    "train = torchvision.datasets.MNIST(root='../../dataset/', train=True)\n",
    "test = torchvision.datasets.MNIST(root='../../dataset/', train=False)\n",
    "\n",
    "trainLoader = DataLoader(train, batch_size, shuffle=True)\n",
    "testLoader = DataLoader(test, batch_size, shuffle=False)"
   ]
  },
  {
   "cell_type": "code",
   "execution_count": 52,
   "metadata": {},
   "outputs": [],
   "source": [
    "class Generator(nn.Module):\n",
    "\tdef __init__(self, d_noise, d_hidden):\n",
    "\t\tsuper(Generator, self).__init__()\n",
    "\t\t\n",
    "\t\tself.G = nn.Sequential(\n",
    "\t\t\tnn.Linear(d_noise, d_hidden),\n",
    "\t\t\tnn.ReLU(),\n",
    "\t\t\tnn.Dropout(0.2),\n",
    "\t\t\tnn.Linear(d_hidden, d_hidden),\n",
    "\t\t\tnn.ReLU(),\n",
    "\t\t\tnn.Dropout(0.2),\n",
    "\t\t\tnn.Linear(d_hidden, 28*28),\n",
    "\t\t\tnn.Sigmoid()\n",
    "\t\t)\n",
    "\t\n",
    "\tdef forward(self, x):\n",
    "\t\tx = self.G(x)\n",
    "\t\treturn x\n",
    "\t\n",
    "\n",
    "class Discriminator(nn.Module):\n",
    "\tdef __init__(self, d_noise, d_hidden):\n",
    "\t\tsuper(Discriminator, self).__init__()\n",
    "\n",
    "\t\tself.D = nn.Sequential(\n",
    "\t\t\tnn.Linear(28*28, d_hidden),\n",
    "\t\t\tnn.ReLU(),\n",
    "\t\t\tnn.Dropout(0.2),\n",
    "\t\t\tnn.Linear(d_hidden, d_hidden),\n",
    "\t\t\tnn.ReLU(),\n",
    "\t\t\tnn.Dropout(0.2),\n",
    "\t\t\tnn.Linear(d_hidden, 1),\n",
    "\t\t\tnn.Sigmoid()\n",
    "\t\t)\n",
    "\t\n",
    "\tdef forward(self, x):\n",
    "\t\tx = self.D(x)\n",
    "\t\treturn x"
   ]
  },
  {
   "cell_type": "code",
   "execution_count": 53,
   "metadata": {},
   "outputs": [],
   "source": [
    "G = Generator(d_noise=100, d_hidden=256).to(device)\n",
    "D = Discriminator(d_noise=100, d_hidden=256).to(device)"
   ]
  },
  {
   "cell_type": "code",
   "execution_count": 54,
   "metadata": {},
   "outputs": [],
   "source": [
    "z = torch.randn(batch_size, 100).to('cuda')\n",
    "img_fake = G(z).reshape(-1, 28, 28)"
   ]
  },
  {
   "cell_type": "code",
   "execution_count": 59,
   "metadata": {},
   "outputs": [
    {
     "data": {
      "image/png": "[encoded data removed]",
      "text/plain": [
       "<Figure size 640x480 with 1 Axes>"
      ]
     },
     "metadata": {},
     "output_type": "display_data"
    }
   ],
   "source": [
    "import matplotlib.pyplot as plt\n",
    "\n",
    "def imshow(img):\n",
    "    img = img.detach()\n",
    "    np_img = img.numpy()\n",
    "    plt.imshow(np_img, cmap='gray')\n",
    "    plt.show()\n",
    "\n",
    "imshow(img_fake[0].cpu())"
   ]
  }
 ],
 "metadata": {
  "kernelspec": {
   "display_name": "ml",
   "language": "python",
   "name": "python3"
  },
  "language_info": {
   "codemirror_mode": {
    "name": "ipython",
    "version": 3
   },
   "file_extension": ".py",
   "mimetype": "text/x-python",
   "name": "python",
   "nbconvert_exporter": "python",
   "pygments_lexer": "ipython3",
   "version": "3.9.19"
  }
 },
 "nbformat": 4,
 "nbformat_minor": 2
}
