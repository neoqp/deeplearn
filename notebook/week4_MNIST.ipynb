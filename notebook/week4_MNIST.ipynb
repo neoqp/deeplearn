{
 "cells": [
  {
   "cell_type": "code",
   "execution_count": 12,
   "metadata": {},
   "outputs": [],
   "source": [
    "import torch.nn as nn\n",
    "import torch\n",
    "import torchvision\n",
    "import torchvision.transforms as transforms\n",
    "import torch.nn.functional as F\n",
    "device = 'cuda:0'\n",
    "train_MNIST = torchvision.datasets.MNIST('../../data', train=True)\n",
    "test_MNIST = torchvision.datasets.MNIST('../../data', train=False)"
   ]
  },
  {
   "cell_type": "code",
   "execution_count": null,
   "metadata": {},
   "outputs": [],
   "source": [
    "train_data = train_MNIST.train_data / 255\n",
    "train_label = train_MNIST.train_labels\n",
    "test_data = test_MNIST.test_data / 255\n",
    "test_label = test_MNIST.test_labels\n",
    "\n",
    "train_data = train_data.reshape(-1, 1, 28, 28)\n",
    "test_data = test_data.reshape(-1, 1, 28, 28)"
   ]
  },
  {
   "cell_type": "code",
   "execution_count": 15,
   "metadata": {},
   "outputs": [],
   "source": [
    "# (batch_size, channel, height, width)\n",
    "class CNN(nn.Module):\n",
    "    def __init__(self):\n",
    "        super(CNN, self).__init__()\n",
    "        self.layer1 = nn.Sequential(\n",
    "            nn.Conv2d(in_channels=1, out_channels=32, kernel_size=3, stride=1, padding=1,),\n",
    "            nn.ReLU(),\n",
    "            nn.MaxPool2d(2),\n",
    "        )\n",
    "        \n",
    "        self.layer2 = nn.Sequential(\n",
    "            nn.Conv2d(in_channels=32, out_channels=64, kernel_size=3, stride=1, padding=1),\n",
    "            nn.ReLU(),\n",
    "            nn.MaxPool2d(2)\n",
    "        )\n",
    "\n",
    "        self.dense = nn.Sequential(\n",
    "            nn.Linear(64*7*7, 1024),\n",
    "            nn.Linear(1024, 128),\n",
    "            nn.Linear(128, 10),\n",
    "        )\n",
    "\n",
    "    def forward(self, x):\n",
    "        x = self.layer1(x)\n",
    "        x = self.layer2(x)\n",
    "        x = x.reshape((x.size(0), -1))\n",
    "        x = self.dense(x)\n",
    "        return x"
   ]
  },
  {
   "cell_type": "code",
   "execution_count": null,
   "metadata": {},
   "outputs": [],
   "source": [
    "learning_rate = 0 # to modify\n",
    "batch_size = 0 # to modify\n",
    "model = CNN().to(device)\n",
    "optim = torch.optim.Adam(params=model.parameters(), lr=learning_rate)"
   ]
  },
  {
   "cell_type": "code",
   "execution_count": 17,
   "metadata": {},
   "outputs": [],
   "source": [
    "trainset = torch.utils.data.TensorDataset(train_data, train_label)\n",
    "trainloader = torch.utils.data.DataLoader(\n",
    "    dataset=trainset,\n",
    "    batch_size=batch_size,\n",
    "    shuffle=True,\n",
    "    )\n",
    "\n",
    "testset = torch.utils.data.TensorDataset(test_data, test_label)\n",
    "testloader = torch.utils.data.DataLoader(\n",
    "    dataset=testset,\n",
    "    batch_size=batch_size,\n",
    "    shuffle=True,\n",
    ")"
   ]
  },
  {
   "cell_type": "code",
   "execution_count": null,
   "metadata": {},
   "outputs": [],
   "source": [
    "epoch = 5\n",
    "loss_fn = nn.CrossEntropyLoss()\n",
    "\n",
    "for epoch_cnt in range(epoch):\n",
    "    last_loss =  0\n",
    "    \n",
    "    for index, (data, target) in enumerate(trainloader):\n",
    "        optim.zero_grad()\n",
    "        data=data.to(device)\n",
    "        target=target.to(device)\n",
    "        prediction = model(data)\n",
    "        loss = loss_fn(prediction, target)\n",
    "        loss.backward()\n",
    "        optim.step()\n",
    "\n",
    "        last_loss=loss.data\n",
    "    \n",
    "    with torch.no_grad():\n",
    "        cnt = 0\n",
    "        for index, (input, output) in enumerate(testloader):\n",
    "            input=input.to(device)\n",
    "            output=output.to(device)\n",
    "            prediction = model(input)\n",
    "            prediction = torch.argmax(prediction, dim=1)\n",
    "            cnt += torch.sum(prediction==output)\n",
    "        print(f\"acc : {round(int(cnt)/100,2)}%, loss : {last_loss}\")\n",
    "\n",
    "# you make acc over 99.0% ! (at last epoch)\n",
    "    "
   ]
  },
  {
   "cell_type": "code",
   "execution_count": 25,
   "metadata": {},
   "outputs": [],
   "source": [
    "# using matplotlib, show mnist_img & prediction\n",
    "\n",
    "### code here ###"
   ]
  }
 ],
 "metadata": {
  "kernelspec": {
   "display_name": "ml",
   "language": "python",
   "name": "python3"
  },
  "language_info": {
   "codemirror_mode": {
    "name": "ipython",
    "version": 3
   },
   "file_extension": ".py",
   "mimetype": "text/x-python",
   "name": "python",
   "nbconvert_exporter": "python",
   "pygments_lexer": "ipython3",
   "version": "3.9.19"
  }
 },
 "nbformat": 4,
 "nbformat_minor": 2
}
