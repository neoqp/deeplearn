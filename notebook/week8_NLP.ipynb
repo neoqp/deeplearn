{
 "cells": [
  {
   "cell_type": "code",
   "execution_count": 1,
   "metadata": {},
   "outputs": [],
   "source": [
    "# BoW 모델 직접 구현 (TF-IDF) (wikipiedia)"
   ]
  },
  {
   "cell_type": "code",
   "execution_count": 2,
   "metadata": {},
   "outputs": [
    {
     "name": "stdout",
     "output_type": "stream",
     "text": [
      "['apples', 'are', 'best', 'rule', 'the', 'they', 'truly']\n",
      "[2. 2. 1. 1. 1. 1. 3.]\n"
     ]
    }
   ],
   "source": [
    "# 구두점 제거 -> 소문자화 -> 토큰화 -> 개수\n",
    "\n",
    "import re, string\n",
    "import numpy as np\n",
    "from collections import Counter\n",
    "\n",
    "punc_regex = re.compile('[{}]'.format(re.escape(string.punctuation)))\n",
    "\n",
    "def strip_punc(corpus):\n",
    "    return punc_regex.sub('', corpus)\n",
    "\n",
    "doc = \"Apples rule. Apples are the best. Truly, they are. Truly... Truly\"\n",
    "\n",
    "doc = strip_punc(doc)\n",
    "counter = Counter(doc.lower().split())\n",
    "descriptor = np.array([counter[word] for word in sorted(counter)], dtype=float)\n",
    "print(sorted(counter))\n",
    "print(descriptor)"
   ]
  },
  {
   "cell_type": "code",
   "execution_count": 4,
   "metadata": {},
   "outputs": [],
   "source": [
    "def to_counter(doc):\n",
    "    return Counter(strip_punc(doc).lower().split())\n",
    "\n",
    "def to_vocab(counters):\n",
    "    vocab = set()\n",
    "    for counter in counters:\n",
    "        vocab.update(counter)\n",
    "    return sorted(vocab)\n",
    "\n",
    "def to_tf(counter, vocab):\n",
    "    return np.array([counter[word] for word in vocab], dtype=float)"
   ]
  },
  {
   "cell_type": "code",
   "execution_count": 5,
   "metadata": {},
   "outputs": [
    {
     "name": "stdout",
     "output_type": "stream",
     "text": [
      "['a', 'am', 'cat', 'dog', 'i', 'not']\n",
      "[[1. 1. 0. 1. 1. 0.]\n",
      " [1. 1. 1. 0. 1. 0.]\n",
      " [1. 1. 0. 1. 1. 1.]\n",
      " [1. 2. 1. 0. 2. 1.]]\n"
     ]
    }
   ],
   "source": [
    "doc_1 = \"I am a dog.\"\n",
    "doc_2 = \"I am a cat!\"\n",
    "doc_3 = \"I am not a dog\"\n",
    "doc_4 = \"I am not a cat, am I!?!\"\n",
    "\n",
    "word_counts = [to_counter(doc) for doc in [doc_1, doc_2, doc_3, doc_4]]\n",
    "bag = to_vocab(word_counts)\n",
    "tfs = np.vstack([to_tf(counter, bag) for counter in word_counts])\n",
    "print(bag)\n",
    "print(tfs)"
   ]
  },
  {
   "cell_type": "code",
   "execution_count": 22,
   "metadata": {},
   "outputs": [],
   "source": [
    "# 상위 k개 추출로 함수 변경\n",
    "\n",
    "def to_vocab(counters, k=None):\n",
    "    vocab = Counter()\n",
    "    for counter in counters:\n",
    "        vocab.update(counter)\n",
    "    \n",
    "    return sorted([word for (word, cnt) in vocab.most_common(k)])"
   ]
  },
  {
   "cell_type": "code",
   "execution_count": 25,
   "metadata": {},
   "outputs": [
    {
     "name": "stdout",
     "output_type": "stream",
     "text": [
      "['a', 'after', 'all', 'also', 'an', 'and', 'are', 'as', 'at', 'be', 'been', 'but', 'by', 'first', 'for', 'from', 'had', 'has', 'have', 'he', 'his', 'in', 'into', 'is', 'it', 'its', 'many', 'more', 'most', 'new', 'not', 'of', 'on', 'one', 'or', 'other', 'some', 'such', 'that', 'the', 'their', 'there', 'they', 'this', 'to', 'was', 'were', 'which', 'who', 'with']\n"
     ]
    }
   ],
   "source": [
    "# wiki에서 상위 50개 빈출단어 출력\n",
    "\n",
    "path = \"../../dataset/wikipedia2text-extracted.txt\"\n",
    "with open(path, \"rb\") as f:\n",
    "    wiki = f.read().decode()\n",
    "\n",
    "wiki_count = to_counter(wiki)\n",
    "wik = to_vocab([wiki_count], k=50)\n",
    "print(wik)"
   ]
  },
  {
   "cell_type": "code",
   "execution_count": null,
   "metadata": {},
   "outputs": [],
   "source": [
    "def to_vocab(counters, k=None, stop_words=tuple()):\n",
    "    "
   ]
  }
 ],
 "metadata": {
  "kernelspec": {
   "display_name": "ml",
   "language": "python",
   "name": "python3"
  },
  "language_info": {
   "codemirror_mode": {
    "name": "ipython",
    "version": 3
   },
   "file_extension": ".py",
   "mimetype": "text/x-python",
   "name": "python",
   "nbconvert_exporter": "python",
   "pygments_lexer": "ipython3",
   "version": "3.9.19"
  }
 },
 "nbformat": 4,
 "nbformat_minor": 2
}
