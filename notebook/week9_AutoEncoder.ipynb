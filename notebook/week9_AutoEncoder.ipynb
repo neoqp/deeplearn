{
 "cells": [
  {
   "cell_type": "code",
   "execution_count": 82,
   "metadata": {},
   "outputs": [],
   "source": [
    "import torch\n",
    "import torch.nn as nn\n",
    "import torchvision\n",
    "from torchsummary import summary\n",
    "import matplotlib.pyplot as plt"
   ]
  },
  {
   "cell_type": "code",
   "execution_count": 83,
   "metadata": {},
   "outputs": [],
   "source": [
    "transforms = []\n",
    "transforms.append(torchvision.transforms.ToTensor())\n",
    "transforms = torchvision.transforms.Compose(transforms)\n",
    "MNIST_train = torchvision.datasets.MNIST('../../dataset/', train=True, transform=transforms)\n",
    "MNIST_test = torchvision.datasets.MNIST('../../dataset/', train=False, transform=transforms)\n"
   ]
  },
  {
   "cell_type": "code",
   "execution_count": 84,
   "metadata": {},
   "outputs": [
    {
     "data": {
      "text/plain": [
       "torch.Size([1, 28, 28])"
      ]
     },
     "execution_count": 84,
     "metadata": {},
     "output_type": "execute_result"
    }
   ],
   "source": [
    "MNIST_train[0][0].shape"
   ]
  },
  {
   "cell_type": "code",
   "execution_count": 85,
   "metadata": {},
   "outputs": [],
   "source": [
    "batch = 64\n",
    "\n",
    "train_loader = torch.utils.data.DataLoader(MNIST_train, batch_size=batch, shuffle=True)\n",
    "test_loader = torch.utils.data.DataLoader(MNIST_test, batch_size=batch, shuffle=True)"
   ]
  },
  {
   "cell_type": "code",
   "execution_count": 86,
   "metadata": {},
   "outputs": [],
   "source": [
    "class AutoEncoder(nn.Module):\n",
    "\tdef __init__(self):\n",
    "\t\tsuper(AutoEncoder, self).__init__()\n",
    "\t\tself.encoder = nn.Sequential(\n",
    "\t\t\tnn.Conv2d(in_channels=1, out_channels=32, kernel_size=3, padding=1),\n",
    "\t\t\tnn.ReLU(),\n",
    "\t\t\tnn.MaxPool2d(kernel_size=2),\n",
    "\n",
    "\t\t\tnn.Conv2d(in_channels=32, out_channels=64, kernel_size=3, padding=1),\n",
    "\t\t\tnn.ReLU(),\n",
    "\t\t\tnn.MaxPool2d(kernel_size=2),\n",
    "\n",
    "\t\t\tnn.Conv2d(in_channels=64, out_channels=128, kernel_size=3, padding=1),\n",
    "\t\t\tnn.ReLU(),\n",
    "\t\t\tnn.MaxPool2d(kernel_size=2),\n",
    "\t\t)\n",
    "\t\tself.fc1 = nn.Linear(3*3*128, 32)\n",
    "\t\tself.fc2 = nn.Linear(32, 3*3*128)\n",
    "\t\tself.decoder = nn.Sequential(\n",
    "\t\t\tnn.ConvTranspose2d(in_channels=128, out_channels=64, kernel_size=3, stride=2),\n",
    "\t\t\tnn.ConvTranspose2d(in_channels=64, out_channels=32, kernel_size=3, stride=2, padding=1, output_padding=1),\n",
    "\t\t\tnn.ConvTranspose2d(in_channels=32, out_channels=1, kernel_size=3, stride=2, padding=1, output_padding=1),\n",
    "\t\t\tnn.Sigmoid()\n",
    "\t\t)\n",
    "\n",
    "\tdef forward(self, x):\n",
    "\t\tx = self.encoder(x)\n",
    "\t\tx = x.reshape((x.size(0), -1))\n",
    "\t\tx = self.fc1(x)\n",
    "\n",
    "\t\tx = self.fc2(x)\n",
    "\t\tx = x.reshape((x.size(0), 128, 3, 3))\n",
    "\t\tx = self.decoder(x)\n",
    "\t\treturn x"
   ]
  },
  {
   "cell_type": "code",
   "execution_count": 87,
   "metadata": {},
   "outputs": [
    {
     "name": "stdout",
     "output_type": "stream",
     "text": [
      "----------------------------------------------------------------\n",
      "        Layer (type)               Output Shape         Param #\n",
      "================================================================\n",
      "            Conv2d-1           [-1, 32, 28, 28]             320\n",
      "              ReLU-2           [-1, 32, 28, 28]               0\n",
      "         MaxPool2d-3           [-1, 32, 14, 14]               0\n",
      "            Conv2d-4           [-1, 64, 14, 14]          18,496\n",
      "              ReLU-5           [-1, 64, 14, 14]               0\n",
      "         MaxPool2d-6             [-1, 64, 7, 7]               0\n",
      "            Conv2d-7            [-1, 128, 7, 7]          73,856\n",
      "              ReLU-8            [-1, 128, 7, 7]               0\n",
      "         MaxPool2d-9            [-1, 128, 3, 3]               0\n",
      "           Linear-10                   [-1, 32]          36,896\n",
      "           Linear-11                 [-1, 1152]          38,016\n",
      "  ConvTranspose2d-12             [-1, 64, 7, 7]          73,792\n",
      "  ConvTranspose2d-13           [-1, 32, 14, 14]          18,464\n",
      "  ConvTranspose2d-14            [-1, 1, 28, 28]             289\n",
      "          Sigmoid-15            [-1, 1, 28, 28]               0\n",
      "================================================================\n",
      "Total params: 260,129\n",
      "Trainable params: 260,129\n",
      "Non-trainable params: 0\n",
      "----------------------------------------------------------------\n",
      "Input size (MB): 0.00\n",
      "Forward/backward pass size (MB): 0.84\n",
      "Params size (MB): 0.99\n",
      "Estimated Total Size (MB): 1.84\n",
      "----------------------------------------------------------------\n"
     ]
    }
   ],
   "source": [
    "model = AutoEncoder()\n",
    "model = model.to('cuda')\n",
    "summary(model, (1, 28, 28))"
   ]
  },
  {
   "cell_type": "code",
   "execution_count": 95,
   "metadata": {},
   "outputs": [],
   "source": [
    "lr = 10**-1\n",
    "optim = torch.optim.SGD(params=model.parameters(), lr=lr)\n",
    "\n",
    "epoch = 10\n",
    "loss_fn = nn.BCELoss()"
   ]
  },
  {
   "cell_type": "code",
   "execution_count": 101,
   "metadata": {},
   "outputs": [
    {
     "name": "stdout",
     "output_type": "stream",
     "text": [
      "0.09093363081087182\n",
      "0.09051416011284917\n",
      "0.09013873194930141\n",
      "0.0897883334790847\n",
      "0.08943763170351605\n",
      "0.089148978585564\n",
      "0.08882161668305204\n",
      "0.08859301398176628\n",
      "0.08833907847243078\n",
      "0.08807519492881893\n"
     ]
    }
   ],
   "source": [
    "for epoch_cnt in range(epoch):\n",
    "\tprint_loss = 0\n",
    "\tfor input, number in train_loader:\n",
    "\t\toptim.zero_grad()\n",
    "\t\tinput = input.to('cuda')\n",
    "\t\tresult = input.to('cuda')\n",
    "\t\toutput = model(input)\n",
    "\n",
    "\t\tloss = loss_fn(output, result)\n",
    "\t\tloss.backward()\n",
    "\t\tprint_loss = print_loss + loss.item()\n",
    "\t\toptim.step()\n",
    "\t\t\n",
    "\tprint(print_loss / len(train_loader))"
   ]
  },
  {
   "cell_type": "code",
   "execution_count": 105,
   "metadata": {},
   "outputs": [
    {
     "data": {
      "text/plain": [
       "<matplotlib.image.AxesImage at 0x2a8b63b5940>"
      ]
     },
     "execution_count": 105,
     "metadata": {},
     "output_type": "execute_result"
    },
    {
     "data": {
      "image/png": "[encoded data removed]",
      "text/plain": [
       "<Figure size 640x480 with 2 Axes>"
      ]
     },
     "metadata": {},
     "output_type": "display_data"
    }
   ],
   "source": [
    "number = 34\n",
    "img = model(MNIST_test[number][0].to('cuda').reshape(1, 1, 28, 28)).reshape(1, 28, 28)\n",
    "\n",
    "topilimage = torchvision.transforms.ToPILImage()\n",
    "\n",
    "plt.figure()\n",
    "plt.subplot(1,2,1)\n",
    "plt.imshow(topilimage(MNIST_test[number][0]), cmap='gray')\n",
    "plt.subplot(1,2,2)\n",
    "plt.imshow(topilimage(img), cmap='gray')"
   ]
  }
 ],
 "metadata": {
  "kernelspec": {
   "display_name": "ml",
   "language": "python",
   "name": "python3"
  },
  "language_info": {
   "codemirror_mode": {
    "name": "ipython",
    "version": 3
   },
   "file_extension": ".py",
   "mimetype": "text/x-python",
   "name": "python",
   "nbconvert_exporter": "python",
   "pygments_lexer": "ipython3",
   "version": "3.9.19"
  }
 },
 "nbformat": 4,
 "nbformat_minor": 2
}
