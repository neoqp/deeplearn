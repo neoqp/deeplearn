{
 "cells": [
  {
   "cell_type": "code",
   "execution_count": 28,
   "metadata": {},
   "outputs": [
    {
     "name": "stderr",
     "output_type": "stream",
     "text": [
      "c:\\Users\\neo64\\AI\\deeplearn\\rsna2024\\dataset.py:54: FutureWarning: Downcasting behavior in `replace` is deprecated and will be removed in a future version. To retain the old behavior, explicitly call `result.infer_objects(copy=False)`. To opt-in to the future behavior, set `pd.set_option('future.no_silent_downcasting', True)`\n",
      "  self.df[self.label_column] = self.df[self.label_column].replace(mapping)\n"
     ]
    }
   ],
   "source": [
    "import pandas as pd\n",
    "import os\n",
    "import sys\n",
    "from torch.utils.data import Dataset, DataLoader\n",
    "from dataset import DCMImageDataset\n",
    "\n",
    "pd.set_option('mode.chained_assignment',  None)\n",
    "data_dir = \"../../dataset/rsna-2024-lumbar-spine-degenerative-classification/\"\n",
    "\n",
    "coordinates = pd.read_csv(data_dir + 'train_label_coordinates.csv')\n",
    "descriptions = pd.read_csv(data_dir + 'train_series_descriptions.csv')\n",
    "train = pd.read_csv(data_dir + 'train.csv')\n",
    "\n",
    "d = DCMImageDataset(\n",
    "\tseries='Sagittal T1',\n",
    "\tcoordinates_file=coordinates,\n",
    "\tdescriptions_file=descriptions,\n",
    "\ttrain_file=train,\n",
    "\timg_dir=data_dir\n",
    "\t)"
   ]
  },
  {
   "cell_type": "code",
   "execution_count": 29,
   "metadata": {},
   "outputs": [],
   "source": [
    "import torch\n",
    "import torch.nn as nn\n",
    "from torchsummary import summary\n",
    "from tqdm.auto import tqdm"
   ]
  },
  {
   "cell_type": "code",
   "execution_count": 30,
   "metadata": {},
   "outputs": [
    {
     "name": "stdout",
     "output_type": "stream",
     "text": [
      "tensor([[0.0026, 0.0034, 0.0036,  ..., 0.0000, 0.0000, 0.0000],\n",
      "        [0.0024, 0.0035, 0.0037,  ..., 0.0000, 0.0000, 0.0000],\n",
      "        [0.0024, 0.0040, 0.0048,  ..., 0.0000, 0.0000, 0.0000],\n",
      "        ...,\n",
      "        [0.0010, 0.0022, 0.0035,  ..., 0.0000, 0.0000, 0.0000],\n",
      "        [0.0014, 0.0017, 0.0030,  ..., 0.0000, 0.0000, 0.0000],\n",
      "        [0.0021, 0.0039, 0.0034,  ..., 0.0000, 0.0000, 0.0000]])\n"
     ]
    }
   ],
   "source": [
    "print(nn.functional.normalize(d[0][0]))"
   ]
  },
  {
   "cell_type": "code",
   "execution_count": 31,
   "metadata": {},
   "outputs": [],
   "source": [
    "class Model(nn.Module):\n",
    "    def ConvLayer(self, in_channel, out_channel):\n",
    "        return nn.Sequential(\n",
    "            nn.Conv2d(in_channels=in_channel, out_channels=out_channel, kernel_size=3, padding=1),\n",
    "            nn.ReLU(),\n",
    "            nn.AvgPool2d(2)\n",
    "        )\n",
    "    \n",
    "    def FcLayer(self, in_dim, out_dim, bias=True):\n",
    "        return nn.Sequential(\n",
    "            nn.Linear(in_features=in_dim, out_features=out_dim, bias=bias),\n",
    "            nn.ReLU(),\n",
    "        )\n",
    "\n",
    "    def __init__(self, output):\n",
    "        super(Model, self).__init__()\n",
    "        self.layer1 = self.ConvLayer(1, 32)\n",
    "        self.layer2 = self.ConvLayer(32, 64)\n",
    "        self.layer3 = self.ConvLayer(64, 128)\n",
    "        self.layer4 = self.ConvLayer(128, 256)\n",
    "        self.layer5 = self.ConvLayer(256, 256)\n",
    "        \n",
    "        self.fc1 = self.FcLayer(7* 7* 256, 2048)\n",
    "        self.fc2 = self.FcLayer(2048, 64)\n",
    "        self.fc3 = nn.Linear(64, 3* output, bias=False)\n",
    "        \n",
    "\n",
    "    def forward(self, x):\n",
    "        x = self.layer1(x)\n",
    "        x = self.layer2(x)\n",
    "        x = self.layer3(x)\n",
    "        x = self.layer4(x)\n",
    "        x = self.layer5(x)\n",
    "        x = x.reshape(-1, 7* 7* 256)\n",
    "        \n",
    "        x = self.fc1(x)\n",
    "        x = self.fc2(x)\n",
    "        x = self.fc3(x)\n",
    "        return x"
   ]
  },
  {
   "cell_type": "code",
   "execution_count": 32,
   "metadata": {},
   "outputs": [],
   "source": [
    "model = Model(10)\n",
    "model = model.to('cuda')"
   ]
  },
  {
   "cell_type": "code",
   "execution_count": 33,
   "metadata": {},
   "outputs": [],
   "source": [
    "lr = 10**-3\n",
    "optim = torch.optim.Adam(params=model.parameters(), lr=lr)\n",
    "epoch = 10\n",
    "loss_fn = nn.CrossEntropyLoss()"
   ]
  },
  {
   "cell_type": "code",
   "execution_count": 35,
   "metadata": {},
   "outputs": [
    {
     "data": {
      "text/plain": [
       "33670"
      ]
     },
     "execution_count": 35,
     "metadata": {},
     "output_type": "execute_result"
    }
   ],
   "source": [
    "len(d)"
   ]
  },
  {
   "cell_type": "code",
   "execution_count": 36,
   "metadata": {},
   "outputs": [],
   "source": [
    "batch = 256\n",
    "train_set, val_set = torch.utils.data.random_split(d, [25000, 8670])\n",
    "train_loader = DataLoader(train_set, batch_size=batch, shuffle=True, num_workers=6, drop_last=True)\n",
    "test_loader = DataLoader(val_set, batch_size=batch, shuffle=True, num_workers=6, drop_last=True)"
   ]
  },
  {
   "cell_type": "code",
   "execution_count": 37,
   "metadata": {},
   "outputs": [
    {
     "data": {
      "image/png": "[encoded data removed]",
      "text/plain": [
       "<Figure size 1000x500 with 1 Axes>"
      ]
     },
     "metadata": {},
     "output_type": "display_data"
    }
   ],
   "source": [
    "import matplotlib.pyplot as plt\n",
    "from IPython.display import clear_output\n",
    "\n",
    "load_path = \"weights/Sagittal_t1.pt\"\n",
    "save_path = \"weights/Sagittal_t1.pt\"\n",
    "#model.load_state_dict(torch.load(load_path))\n",
    "\n",
    "losses = []\n",
    "for epoch_cnt in range(epoch):\n",
    "    loss_sum = 0\n",
    "\n",
    "    for i, (input, answer) in enumerate(train_loader):\n",
    "        optim.zero_grad()\n",
    "\n",
    "        input = input.to('cuda').unsqueeze(1)\n",
    "        answer = answer[:, 5:15].type(torch.LongTensor).to('cuda')\n",
    "        output = model(input).to('cuda')\n",
    "        output = output.reshape(-1, 3)\n",
    "        answer = answer.reshape(-1)\n",
    "\n",
    "        loss = loss_fn(output, answer)\n",
    "        loss.backward()\n",
    "\n",
    "        optim.step()\n",
    "        \n",
    "        loss_sum += loss.item()\n",
    "        if i%10==9:\n",
    "            losses.append(loss_sum / 10)\n",
    "            loss_sum = 0\n",
    "            torch.save(model.state_dict(), save_path)\n",
    "            \n",
    "            clear_output(wait=True)\n",
    "            plt.figure(figsize=(10, 5))\n",
    "            plt.plot(losses)\n",
    "            plt.xlabel('Batch number')\n",
    "            plt.ylabel('Loss')\n",
    "            plt.title('Training Loss')\n",
    "            plt.show()\n",
    "\n",
    "    with torch.no_grad():\n",
    "        total_acc = 0\n",
    "        for i, (input, answer) in enumerate(test_loader):\n",
    "            input = input.to('cuda').unsqueeze(1)\n",
    "            answer = answer[:, 5:15].type(torch.LongTensor).to('cuda')\n",
    "            output = model(input).to('cuda')\n",
    "            output = output.reshape(-1, 3)\n",
    "            answer = answer.reshape(-1)\n",
    "            output = torch.argmax(output, dim=1)\n",
    "\n",
    "            acc = torch.sum(output == answer).item() / len(output)\n",
    "            total_acc += acc\n",
    "\n",
    "        print(f\"acc : {round(total_acc / len(test_loader) * 100, 4)}%\")\n"
   ]
  },
  {
   "cell_type": "code",
   "execution_count": null,
   "metadata": {},
   "outputs": [],
   "source": []
  }
 ],
 "metadata": {
  "kernelspec": {
   "display_name": "ml",
   "language": "python",
   "name": "python3"
  },
  "language_info": {
   "codemirror_mode": {
    "name": "ipython",
    "version": 3
   },
   "file_extension": ".py",
   "mimetype": "text/x-python",
   "name": "python",
   "nbconvert_exporter": "python",
   "pygments_lexer": "ipython3",
   "version": "3.9.19"
  }
 },
 "nbformat": 4,
 "nbformat_minor": 2
}
