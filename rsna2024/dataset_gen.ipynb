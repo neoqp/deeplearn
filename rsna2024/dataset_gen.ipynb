{
 "cells": [
  {
   "cell_type": "code",
   "execution_count": 2,
   "metadata": {},
   "outputs": [
    {
     "name": "stderr",
     "output_type": "stream",
     "text": [
      "c:\\Users\\neo64\\anaconda3\\envs\\ml\\lib\\site-packages\\tqdm\\auto.py:21: TqdmWarning: IProgress not found. Please update jupyter and ipywidgets. See https://ipywidgets.readthedocs.io/en/stable/user_install.html\n",
      "  from .autonotebook import tqdm as notebook_tqdm\n"
     ]
    }
   ],
   "source": [
    "data_dir = \"../../dataset/rsna-2024-lumbar-spine-degenerative-classification/\"\n",
    "\n",
    "import torch\n",
    "from torch.utils.data import Dataset\n",
    "from torchvision import datasets\n",
    "import pandas as pd\n",
    "import os\n",
    "import pydicom"
   ]
  },
  {
   "cell_type": "code",
   "execution_count": 3,
   "metadata": {},
   "outputs": [],
   "source": [
    "\n",
    "class DCMImageDataset(Dataset):\n",
    "    def __init__(self, series, coordinates_file, descriptions_file, train_file, img_dir, file_counts, transform=None, target_transform=None):\n",
    "        self.coordinates = coordinates_file\n",
    "        self.descriptions =  descriptions_file\n",
    "        self.train = train_file\n",
    "        self.series = series\n",
    "        self.img_dir = img_dir\n",
    "\n",
    "        merge = descriptions_file.merge(train_file, on='study_id', how='left')\n",
    "        f = merge[merge['series_description'] == series]\n",
    "        result = []\n",
    "        for i in range(len(f)):\n",
    "            study_id = f.iloc[i]['study_id']\n",
    "            series_id = f.iloc[i]['series_id']\n",
    "            ndf = f[(f['study_id'] == study_id) & (f['series_id'] == series_id)]\n",
    "            \n",
    "            expanded_dfs = []\n",
    "            for j in range(1, file_counts[str(study_id)][str(series_id)]+1):\n",
    "                ndf['number'] = j\n",
    "                expanded_dfs.append(ndf.copy())\n",
    "            \n",
    "            dfs = pd.concat(expanded_dfs).reset_index(drop=True)\n",
    "            result.append(dfs.copy())\n",
    "        self.df = pd.concat(result).reset_index(drop=True)\n",
    "\n",
    "        self.transform = transform\n",
    "        self.target_transform = target_transform\n",
    "\n",
    "    def __len__(self):\n",
    "        return len(self.df)\n",
    "    \n",
    "    def __getitem__(self, idx):\n",
    "        study_id = str(self.df.iloc[idx]['study_id'])\n",
    "        series_id = str(self.df.iloc[idx]['series_id'])\n",
    "\n",
    "        img_path = os.path.join(str(self.img_dir + 'train_images'), study_id)\n",
    "        img_path = os.path.join(img_path, series_id)\n",
    "        img_path = img_path + '/' + str(self.df.iloc[idx]['number']) + '.dcm'\n",
    "\n",
    "        image = pydicom.dcmread(str(img_path)).pixel_array\n",
    "        label_column = self.df.columns[3:-2]\n",
    "        label = self.df.iloc[idx][label_column].tolist()\n",
    "        \n",
    "        if self.transform:\n",
    "            image = self.transform(image)\n",
    "        if self.target_transform:\n",
    "            label = self.target_transform(label)\n",
    "\n",
    "        return image, label\n",
    "            "
   ]
  },
  {
   "cell_type": "code",
   "execution_count": 4,
   "metadata": {},
   "outputs": [],
   "source": [
    "coordinates = pd.read_csv(data_dir + 'train_label_coordinates.csv')\n",
    "descriptions = pd.read_csv(data_dir + 'train_series_descriptions.csv')\n",
    "train = pd.read_csv(data_dir + 'train.csv')\n",
    "\n",
    "file_counts = {}\n",
    "study_ids = os.listdir(data_dir + 'train_images')\n",
    "\n",
    "for study_id in study_ids:\n",
    "    series_ids = os.listdir(data_dir + 'train_images/' + study_id)\n",
    "    tmp = {}\n",
    "    for series_id in series_ids:\n",
    "        tmp[series_id] = len(os.listdir(data_dir + 'train_images/' + study_id + '/' + series_id))\n",
    "\n",
    "    file_counts[study_id] = tmp"
   ]
  },
  {
   "cell_type": "code",
   "execution_count": null,
   "metadata": {},
   "outputs": [],
   "source": [
    "dataset = DCMImageDataset(series='Axial T2',\n",
    "                          coordinates_file=coordinates,\n",
    "                          descriptions_file=descriptions,\n",
    "                          train_file=train,\n",
    "                          img_dir=data_dir,\n",
    "                          file_counts=file_counts,\n",
    "                          )"
   ]
  },
  {
   "cell_type": "code",
   "execution_count": 15,
   "metadata": {},
   "outputs": [
    {
     "name": "stdout",
     "output_type": "stream",
     "text": [
      "79979\n"
     ]
    }
   ],
   "source": [
    "print(len(dataset))"
   ]
  },
  {
   "cell_type": "code",
   "execution_count": null,
   "metadata": {},
   "outputs": [],
   "source": []
  }
 ],
 "metadata": {
  "kernelspec": {
   "display_name": "ml",
   "language": "python",
   "name": "python3"
  },
  "language_info": {
   "codemirror_mode": {
    "name": "ipython",
    "version": 3
   },
   "file_extension": ".py",
   "mimetype": "text/x-python",
   "name": "python",
   "nbconvert_exporter": "python",
   "pygments_lexer": "ipython3",
   "version": "3.9.19"
  }
 },
 "nbformat": 4,
 "nbformat_minor": 2
}
