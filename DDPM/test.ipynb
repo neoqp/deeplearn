{
 "cells": [
  {
   "cell_type": "code",
   "execution_count": 18,
   "metadata": {},
   "outputs": [],
   "source": [
    "from torchvision import datasets, transforms\n",
    "import matplotlib.pyplot as plt\n",
    "\n",
    "dataset = datasets.CIFAR10(root='../../dataset', train=True)"
   ]
  },
  {
   "cell_type": "code",
   "execution_count": 4,
   "metadata": {},
   "outputs": [
    {
     "data": {
      "text/plain": [
       "50000"
      ]
     },
     "execution_count": 4,
     "metadata": {},
     "output_type": "execute_result"
    }
   ],
   "source": [
    "len(dataset)"
   ]
  },
  {
   "cell_type": "code",
   "execution_count": 9,
   "metadata": {},
   "outputs": [
    {
     "data": {
      "text/plain": [
       "['airplane',\n",
       " 'automobile',\n",
       " 'bird',\n",
       " 'cat',\n",
       " 'deer',\n",
       " 'dog',\n",
       " 'frog',\n",
       " 'horse',\n",
       " 'ship',\n",
       " 'truck']"
      ]
     },
     "execution_count": 9,
     "metadata": {},
     "output_type": "execute_result"
    }
   ],
   "source": [
    "dataset.classes"
   ]
  },
  {
   "cell_type": "code",
   "execution_count": 16,
   "metadata": {},
   "outputs": [
    {
     "data": {
      "text/plain": [
       "9"
      ]
     },
     "execution_count": 16,
     "metadata": {},
     "output_type": "execute_result"
    }
   ],
   "source": [
    "dataset[1][1]"
   ]
  },
  {
   "cell_type": "code",
   "execution_count": 17,
   "metadata": {},
   "outputs": [
    {
     "data": {
      "text/plain": [
       "<matplotlib.image.AxesImage at 0x2827162f3d0>"
      ]
     },
     "execution_count": 17,
     "metadata": {},
     "output_type": "execute_result"
    },
    {
     "data": {
      "image/png": "[encoded data removed]",
      "text/plain": [
       "<Figure size 640x480 with 1 Axes>"
      ]
     },
     "metadata": {},
     "output_type": "display_data"
    }
   ],
   "source": [
    "plt.imshow(dataset[1][0])"
   ]
  },
  {
   "cell_type": "code",
   "execution_count": 19,
   "metadata": {},
   "outputs": [],
   "source": [
    "transform = transforms.Compose([transforms.ToTensor()])\n",
    "dataset2 = datasets.CIFAR10(root='../../dataset', train=True, transform=transform)"
   ]
  },
  {
   "cell_type": "code",
   "execution_count": 20,
   "metadata": {},
   "outputs": [
    {
     "data": {
      "text/plain": [
       "(tensor([[[0.2314, 0.1686, 0.1961,  ..., 0.6196, 0.5961, 0.5804],\n",
       "          [0.0627, 0.0000, 0.0706,  ..., 0.4824, 0.4667, 0.4784],\n",
       "          [0.0980, 0.0627, 0.1922,  ..., 0.4627, 0.4706, 0.4275],\n",
       "          ...,\n",
       "          [0.8157, 0.7882, 0.7765,  ..., 0.6275, 0.2196, 0.2078],\n",
       "          [0.7059, 0.6784, 0.7294,  ..., 0.7216, 0.3804, 0.3255],\n",
       "          [0.6941, 0.6588, 0.7020,  ..., 0.8471, 0.5922, 0.4824]],\n",
       " \n",
       "         [[0.2431, 0.1804, 0.1882,  ..., 0.5176, 0.4902, 0.4863],\n",
       "          [0.0784, 0.0000, 0.0314,  ..., 0.3451, 0.3255, 0.3412],\n",
       "          [0.0941, 0.0275, 0.1059,  ..., 0.3294, 0.3294, 0.2863],\n",
       "          ...,\n",
       "          [0.6667, 0.6000, 0.6314,  ..., 0.5216, 0.1216, 0.1333],\n",
       "          [0.5451, 0.4824, 0.5647,  ..., 0.5804, 0.2431, 0.2078],\n",
       "          [0.5647, 0.5059, 0.5569,  ..., 0.7216, 0.4627, 0.3608]],\n",
       " \n",
       "         [[0.2471, 0.1765, 0.1686,  ..., 0.4235, 0.4000, 0.4039],\n",
       "          [0.0784, 0.0000, 0.0000,  ..., 0.2157, 0.1961, 0.2235],\n",
       "          [0.0824, 0.0000, 0.0314,  ..., 0.1961, 0.1961, 0.1647],\n",
       "          ...,\n",
       "          [0.3765, 0.1333, 0.1020,  ..., 0.2745, 0.0275, 0.0784],\n",
       "          [0.3765, 0.1647, 0.1176,  ..., 0.3686, 0.1333, 0.1333],\n",
       "          [0.4549, 0.3686, 0.3412,  ..., 0.5490, 0.3294, 0.2824]]]),\n",
       " 6)"
      ]
     },
     "execution_count": 20,
     "metadata": {},
     "output_type": "execute_result"
    }
   ],
   "source": [
    "dataset2[0]"
   ]
  },
  {
   "cell_type": "code",
   "execution_count": 21,
   "metadata": {},
   "outputs": [],
   "source": [
    "from functools import partial\n",
    "from tqdm import tqdm\n",
    "\n",
    "import torch\n",
    "from torch.utils.data import DataLoader\n",
    "from torchvision import transforms, datasets\n",
    "\n",
    "from model.unet import UNet\n",
    "from model.diffusion import DiffusionModel\n",
    "from utils import make_grid\n",
    "\n",
    "def transform(examples):\n",
    "    jitter = transforms.Compose([\n",
    "        transforms.Resize((128,128)),\n",
    "        transforms.RandomHorizontalFlip(),\n",
    "        transforms.ToTensor(),\n",
    "     ])\n",
    "    image_tensors = [jitter(image.convert(\"RGB\")) for image in examples[\"image\"]]\n",
    "    return {'img_input': image_tensors}\n"
   ]
  },
  {
   "cell_type": "code",
   "execution_count": 25,
   "metadata": {},
   "outputs": [],
   "source": [
    "model = UNet(in_dim=64,\n",
    "\t\t\t\tdim_mults = (1, 2, 4, 8, 16),\n",
    "\t\t\t\tis_attn = (False, False, False, True, True)\n",
    "\t\t\t\t)\n",
    "diffusion = DiffusionModel(model = model,\n",
    "\t\t\t\t\t\t\tnum_timesteps=1_000)"
   ]
  },
  {
   "cell_type": "code",
   "execution_count": 26,
   "metadata": {},
   "outputs": [
    {
     "data": {
      "text/plain": [
       "DiffusionModel(\n",
       "  (model): UNet(\n",
       "    (init_conv): Conv2d(3, 64, kernel_size=(3, 3), stride=(1, 1), padding=(1, 1))\n",
       "    (time_emb): TimeEmbedding(\n",
       "      (ln1): Linear(in_features=64, out_features=256, bias=True)\n",
       "      (act1): GELU(approximate=none)\n",
       "      (ln2): Linear(in_features=256, out_features=256, bias=True)\n",
       "    )\n",
       "    (downs): ModuleList(\n",
       "      (0): DownBlock(\n",
       "        (convres): ConvResBlock(\n",
       "          (norm1): GroupNorm(8, 64, eps=1e-05, affine=True)\n",
       "          (act1): GELU(approximate=none)\n",
       "          (conv1): Conv2d(64, 64, kernel_size=(3, 3), stride=(1, 1), padding=(1, 1))\n",
       "          (norm2): GroupNorm(8, 64, eps=1e-05, affine=True)\n",
       "          (act2): GELU(approximate=none)\n",
       "          (conv2): Conv2d(64, 64, kernel_size=(3, 3), stride=(1, 1), padding=(1, 1))\n",
       "          (res): Identity()\n",
       "          (time_ln): Linear(in_features=256, out_features=64, bias=True)\n",
       "          (time_act): GELU(approximate=none)\n",
       "          (dropout): Dropout(p=0.1, inplace=False)\n",
       "        )\n",
       "        (attn): Identity()\n",
       "      )\n",
       "      (1): DownBlock(\n",
       "        (convres): ConvResBlock(\n",
       "          (norm1): GroupNorm(8, 64, eps=1e-05, affine=True)\n",
       "          (act1): GELU(approximate=none)\n",
       "          (conv1): Conv2d(64, 64, kernel_size=(3, 3), stride=(1, 1), padding=(1, 1))\n",
       "          (norm2): GroupNorm(8, 64, eps=1e-05, affine=True)\n",
       "          (act2): GELU(approximate=none)\n",
       "          (conv2): Conv2d(64, 64, kernel_size=(3, 3), stride=(1, 1), padding=(1, 1))\n",
       "          (res): Identity()\n",
       "          (time_ln): Linear(in_features=256, out_features=64, bias=True)\n",
       "          (time_act): GELU(approximate=none)\n",
       "          (dropout): Dropout(p=0.1, inplace=False)\n",
       "        )\n",
       "        (attn): Identity()\n",
       "      )\n",
       "      (2): DownSample(\n",
       "        (conv): Conv2d(64, 64, kernel_size=(3, 3), stride=(2, 2), padding=(1, 1))\n",
       "      )\n",
       "      (3): DownBlock(\n",
       "        (convres): ConvResBlock(\n",
       "          (norm1): GroupNorm(8, 64, eps=1e-05, affine=True)\n",
       "          (act1): GELU(approximate=none)\n",
       "          (conv1): Conv2d(64, 128, kernel_size=(3, 3), stride=(1, 1), padding=(1, 1))\n",
       "          (norm2): GroupNorm(8, 128, eps=1e-05, affine=True)\n",
       "          (act2): GELU(approximate=none)\n",
       "          (conv2): Conv2d(128, 128, kernel_size=(3, 3), stride=(1, 1), padding=(1, 1))\n",
       "          (res): Conv2d(64, 128, kernel_size=(1, 1), stride=(1, 1))\n",
       "          (time_ln): Linear(in_features=256, out_features=128, bias=True)\n",
       "          (time_act): GELU(approximate=none)\n",
       "          (dropout): Dropout(p=0.1, inplace=False)\n",
       "        )\n",
       "        (attn): Identity()\n",
       "      )\n",
       "      (4): DownBlock(\n",
       "        (convres): ConvResBlock(\n",
       "          (norm1): GroupNorm(8, 128, eps=1e-05, affine=True)\n",
       "          (act1): GELU(approximate=none)\n",
       "          (conv1): Conv2d(128, 128, kernel_size=(3, 3), stride=(1, 1), padding=(1, 1))\n",
       "          (norm2): GroupNorm(8, 128, eps=1e-05, affine=True)\n",
       "          (act2): GELU(approximate=none)\n",
       "          (conv2): Conv2d(128, 128, kernel_size=(3, 3), stride=(1, 1), padding=(1, 1))\n",
       "          (res): Identity()\n",
       "          (time_ln): Linear(in_features=256, out_features=128, bias=True)\n",
       "          (time_act): GELU(approximate=none)\n",
       "          (dropout): Dropout(p=0.1, inplace=False)\n",
       "        )\n",
       "        (attn): Identity()\n",
       "      )\n",
       "      (5): DownSample(\n",
       "        (conv): Conv2d(128, 128, kernel_size=(3, 3), stride=(2, 2), padding=(1, 1))\n",
       "      )\n",
       "      (6): DownBlock(\n",
       "        (convres): ConvResBlock(\n",
       "          (norm1): GroupNorm(8, 128, eps=1e-05, affine=True)\n",
       "          (act1): GELU(approximate=none)\n",
       "          (conv1): Conv2d(128, 256, kernel_size=(3, 3), stride=(1, 1), padding=(1, 1))\n",
       "          (norm2): GroupNorm(8, 256, eps=1e-05, affine=True)\n",
       "          (act2): GELU(approximate=none)\n",
       "          (conv2): Conv2d(256, 256, kernel_size=(3, 3), stride=(1, 1), padding=(1, 1))\n",
       "          (res): Conv2d(128, 256, kernel_size=(1, 1), stride=(1, 1))\n",
       "          (time_ln): Linear(in_features=256, out_features=256, bias=True)\n",
       "          (time_act): GELU(approximate=none)\n",
       "          (dropout): Dropout(p=0.1, inplace=False)\n",
       "        )\n",
       "        (attn): Identity()\n",
       "      )\n",
       "      (7): DownBlock(\n",
       "        (convres): ConvResBlock(\n",
       "          (norm1): GroupNorm(8, 256, eps=1e-05, affine=True)\n",
       "          (act1): GELU(approximate=none)\n",
       "          (conv1): Conv2d(256, 256, kernel_size=(3, 3), stride=(1, 1), padding=(1, 1))\n",
       "          (norm2): GroupNorm(8, 256, eps=1e-05, affine=True)\n",
       "          (act2): GELU(approximate=none)\n",
       "          (conv2): Conv2d(256, 256, kernel_size=(3, 3), stride=(1, 1), padding=(1, 1))\n",
       "          (res): Identity()\n",
       "          (time_ln): Linear(in_features=256, out_features=256, bias=True)\n",
       "          (time_act): GELU(approximate=none)\n",
       "          (dropout): Dropout(p=0.1, inplace=False)\n",
       "        )\n",
       "        (attn): Identity()\n",
       "      )\n",
       "      (8): DownSample(\n",
       "        (conv): Conv2d(256, 256, kernel_size=(3, 3), stride=(2, 2), padding=(1, 1))\n",
       "      )\n",
       "      (9): DownBlock(\n",
       "        (convres): ConvResBlock(\n",
       "          (norm1): GroupNorm(8, 256, eps=1e-05, affine=True)\n",
       "          (act1): GELU(approximate=none)\n",
       "          (conv1): Conv2d(256, 512, kernel_size=(3, 3), stride=(1, 1), padding=(1, 1))\n",
       "          (norm2): GroupNorm(8, 512, eps=1e-05, affine=True)\n",
       "          (act2): GELU(approximate=none)\n",
       "          (conv2): Conv2d(512, 512, kernel_size=(3, 3), stride=(1, 1), padding=(1, 1))\n",
       "          (res): Conv2d(256, 512, kernel_size=(1, 1), stride=(1, 1))\n",
       "          (time_ln): Linear(in_features=256, out_features=512, bias=True)\n",
       "          (time_act): GELU(approximate=none)\n",
       "          (dropout): Dropout(p=0.1, inplace=False)\n",
       "        )\n",
       "        (attn): AttentionBlock(\n",
       "          (norm): GroupNorm(8, 512, eps=1e-05, affine=True)\n",
       "          (to_qkv): Linear(in_features=512, out_features=384, bias=True)\n",
       "          (to_out): Linear(in_features=128, out_features=512, bias=True)\n",
       "        )\n",
       "      )\n",
       "      (10): DownBlock(\n",
       "        (convres): ConvResBlock(\n",
       "          (norm1): GroupNorm(8, 512, eps=1e-05, affine=True)\n",
       "          (act1): GELU(approximate=none)\n",
       "          (conv1): Conv2d(512, 512, kernel_size=(3, 3), stride=(1, 1), padding=(1, 1))\n",
       "          (norm2): GroupNorm(8, 512, eps=1e-05, affine=True)\n",
       "          (act2): GELU(approximate=none)\n",
       "          (conv2): Conv2d(512, 512, kernel_size=(3, 3), stride=(1, 1), padding=(1, 1))\n",
       "          (res): Identity()\n",
       "          (time_ln): Linear(in_features=256, out_features=512, bias=True)\n",
       "          (time_act): GELU(approximate=none)\n",
       "          (dropout): Dropout(p=0.1, inplace=False)\n",
       "        )\n",
       "        (attn): AttentionBlock(\n",
       "          (norm): GroupNorm(8, 512, eps=1e-05, affine=True)\n",
       "          (to_qkv): Linear(in_features=512, out_features=384, bias=True)\n",
       "          (to_out): Linear(in_features=128, out_features=512, bias=True)\n",
       "        )\n",
       "      )\n",
       "      (11): DownSample(\n",
       "        (conv): Conv2d(512, 512, kernel_size=(3, 3), stride=(2, 2), padding=(1, 1))\n",
       "      )\n",
       "      (12): DownBlock(\n",
       "        (convres): ConvResBlock(\n",
       "          (norm1): GroupNorm(8, 512, eps=1e-05, affine=True)\n",
       "          (act1): GELU(approximate=none)\n",
       "          (conv1): Conv2d(512, 1024, kernel_size=(3, 3), stride=(1, 1), padding=(1, 1))\n",
       "          (norm2): GroupNorm(8, 1024, eps=1e-05, affine=True)\n",
       "          (act2): GELU(approximate=none)\n",
       "          (conv2): Conv2d(1024, 1024, kernel_size=(3, 3), stride=(1, 1), padding=(1, 1))\n",
       "          (res): Conv2d(512, 1024, kernel_size=(1, 1), stride=(1, 1))\n",
       "          (time_ln): Linear(in_features=256, out_features=1024, bias=True)\n",
       "          (time_act): GELU(approximate=none)\n",
       "          (dropout): Dropout(p=0.1, inplace=False)\n",
       "        )\n",
       "        (attn): AttentionBlock(\n",
       "          (norm): GroupNorm(8, 1024, eps=1e-05, affine=True)\n",
       "          (to_qkv): Linear(in_features=1024, out_features=384, bias=True)\n",
       "          (to_out): Linear(in_features=128, out_features=1024, bias=True)\n",
       "        )\n",
       "      )\n",
       "      (13): DownBlock(\n",
       "        (convres): ConvResBlock(\n",
       "          (norm1): GroupNorm(8, 1024, eps=1e-05, affine=True)\n",
       "          (act1): GELU(approximate=none)\n",
       "          (conv1): Conv2d(1024, 1024, kernel_size=(3, 3), stride=(1, 1), padding=(1, 1))\n",
       "          (norm2): GroupNorm(8, 1024, eps=1e-05, affine=True)\n",
       "          (act2): GELU(approximate=none)\n",
       "          (conv2): Conv2d(1024, 1024, kernel_size=(3, 3), stride=(1, 1), padding=(1, 1))\n",
       "          (res): Identity()\n",
       "          (time_ln): Linear(in_features=256, out_features=1024, bias=True)\n",
       "          (time_act): GELU(approximate=none)\n",
       "          (dropout): Dropout(p=0.1, inplace=False)\n",
       "        )\n",
       "        (attn): AttentionBlock(\n",
       "          (norm): GroupNorm(8, 1024, eps=1e-05, affine=True)\n",
       "          (to_qkv): Linear(in_features=1024, out_features=384, bias=True)\n",
       "          (to_out): Linear(in_features=128, out_features=1024, bias=True)\n",
       "        )\n",
       "      )\n",
       "    )\n",
       "    (mid): MidBlock(\n",
       "      (convres1): ConvResBlock(\n",
       "        (norm1): GroupNorm(8, 1024, eps=1e-05, affine=True)\n",
       "        (act1): GELU(approximate=none)\n",
       "        (conv1): Conv2d(1024, 1024, kernel_size=(3, 3), stride=(1, 1), padding=(1, 1))\n",
       "        (norm2): GroupNorm(8, 1024, eps=1e-05, affine=True)\n",
       "        (act2): GELU(approximate=none)\n",
       "        (conv2): Conv2d(1024, 1024, kernel_size=(3, 3), stride=(1, 1), padding=(1, 1))\n",
       "        (res): Identity()\n",
       "        (time_ln): Linear(in_features=256, out_features=1024, bias=True)\n",
       "        (time_act): GELU(approximate=none)\n",
       "        (dropout): Dropout(p=0.1, inplace=False)\n",
       "      )\n",
       "      (attn1): AttentionBlock(\n",
       "        (norm): GroupNorm(8, 1024, eps=1e-05, affine=True)\n",
       "        (to_qkv): Linear(in_features=1024, out_features=384, bias=True)\n",
       "        (to_out): Linear(in_features=128, out_features=1024, bias=True)\n",
       "      )\n",
       "      (convres2): ConvResBlock(\n",
       "        (norm1): GroupNorm(8, 1024, eps=1e-05, affine=True)\n",
       "        (act1): GELU(approximate=none)\n",
       "        (conv1): Conv2d(1024, 1024, kernel_size=(3, 3), stride=(1, 1), padding=(1, 1))\n",
       "        (norm2): GroupNorm(8, 1024, eps=1e-05, affine=True)\n",
       "        (act2): GELU(approximate=none)\n",
       "        (conv2): Conv2d(1024, 1024, kernel_size=(3, 3), stride=(1, 1), padding=(1, 1))\n",
       "        (res): Identity()\n",
       "        (time_ln): Linear(in_features=256, out_features=1024, bias=True)\n",
       "        (time_act): GELU(approximate=none)\n",
       "        (dropout): Dropout(p=0.1, inplace=False)\n",
       "      )\n",
       "    )\n",
       "    (ups): ModuleList(\n",
       "      (0): UpBlock(\n",
       "        (convres): ConvResBlock(\n",
       "          (norm1): GroupNorm(8, 2048, eps=1e-05, affine=True)\n",
       "          (act1): GELU(approximate=none)\n",
       "          (conv1): Conv2d(2048, 1024, kernel_size=(3, 3), stride=(1, 1), padding=(1, 1))\n",
       "          (norm2): GroupNorm(8, 1024, eps=1e-05, affine=True)\n",
       "          (act2): GELU(approximate=none)\n",
       "          (conv2): Conv2d(1024, 1024, kernel_size=(3, 3), stride=(1, 1), padding=(1, 1))\n",
       "          (res): Conv2d(2048, 1024, kernel_size=(1, 1), stride=(1, 1))\n",
       "          (time_ln): Linear(in_features=256, out_features=1024, bias=True)\n",
       "          (time_act): GELU(approximate=none)\n",
       "          (dropout): Dropout(p=0.1, inplace=False)\n",
       "        )\n",
       "        (attn): AttentionBlock(\n",
       "          (norm): GroupNorm(8, 1024, eps=1e-05, affine=True)\n",
       "          (to_qkv): Linear(in_features=1024, out_features=384, bias=True)\n",
       "          (to_out): Linear(in_features=128, out_features=1024, bias=True)\n",
       "        )\n",
       "      )\n",
       "      (1): UpBlock(\n",
       "        (convres): ConvResBlock(\n",
       "          (norm1): GroupNorm(8, 2048, eps=1e-05, affine=True)\n",
       "          (act1): GELU(approximate=none)\n",
       "          (conv1): Conv2d(2048, 512, kernel_size=(3, 3), stride=(1, 1), padding=(1, 1))\n",
       "          (norm2): GroupNorm(8, 512, eps=1e-05, affine=True)\n",
       "          (act2): GELU(approximate=none)\n",
       "          (conv2): Conv2d(512, 512, kernel_size=(3, 3), stride=(1, 1), padding=(1, 1))\n",
       "          (res): Conv2d(2048, 512, kernel_size=(1, 1), stride=(1, 1))\n",
       "          (time_ln): Linear(in_features=256, out_features=512, bias=True)\n",
       "          (time_act): GELU(approximate=none)\n",
       "          (dropout): Dropout(p=0.1, inplace=False)\n",
       "        )\n",
       "        (attn): AttentionBlock(\n",
       "          (norm): GroupNorm(8, 512, eps=1e-05, affine=True)\n",
       "          (to_qkv): Linear(in_features=512, out_features=384, bias=True)\n",
       "          (to_out): Linear(in_features=128, out_features=512, bias=True)\n",
       "        )\n",
       "      )\n",
       "      (2): UpSample(\n",
       "        (upconv): ConvTranspose2d(512, 512, kernel_size=(4, 4), stride=(2, 2), padding=(1, 1))\n",
       "      )\n",
       "      (3): UpBlock(\n",
       "        (convres): ConvResBlock(\n",
       "          (norm1): GroupNorm(8, 1024, eps=1e-05, affine=True)\n",
       "          (act1): GELU(approximate=none)\n",
       "          (conv1): Conv2d(1024, 512, kernel_size=(3, 3), stride=(1, 1), padding=(1, 1))\n",
       "          (norm2): GroupNorm(8, 512, eps=1e-05, affine=True)\n",
       "          (act2): GELU(approximate=none)\n",
       "          (conv2): Conv2d(512, 512, kernel_size=(3, 3), stride=(1, 1), padding=(1, 1))\n",
       "          (res): Conv2d(1024, 512, kernel_size=(1, 1), stride=(1, 1))\n",
       "          (time_ln): Linear(in_features=256, out_features=512, bias=True)\n",
       "          (time_act): GELU(approximate=none)\n",
       "          (dropout): Dropout(p=0.1, inplace=False)\n",
       "        )\n",
       "        (attn): AttentionBlock(\n",
       "          (norm): GroupNorm(8, 512, eps=1e-05, affine=True)\n",
       "          (to_qkv): Linear(in_features=512, out_features=384, bias=True)\n",
       "          (to_out): Linear(in_features=128, out_features=512, bias=True)\n",
       "        )\n",
       "      )\n",
       "      (4): UpBlock(\n",
       "        (convres): ConvResBlock(\n",
       "          (norm1): GroupNorm(8, 1024, eps=1e-05, affine=True)\n",
       "          (act1): GELU(approximate=none)\n",
       "          (conv1): Conv2d(1024, 256, kernel_size=(3, 3), stride=(1, 1), padding=(1, 1))\n",
       "          (norm2): GroupNorm(8, 256, eps=1e-05, affine=True)\n",
       "          (act2): GELU(approximate=none)\n",
       "          (conv2): Conv2d(256, 256, kernel_size=(3, 3), stride=(1, 1), padding=(1, 1))\n",
       "          (res): Conv2d(1024, 256, kernel_size=(1, 1), stride=(1, 1))\n",
       "          (time_ln): Linear(in_features=256, out_features=256, bias=True)\n",
       "          (time_act): GELU(approximate=none)\n",
       "          (dropout): Dropout(p=0.1, inplace=False)\n",
       "        )\n",
       "        (attn): AttentionBlock(\n",
       "          (norm): GroupNorm(8, 256, eps=1e-05, affine=True)\n",
       "          (to_qkv): Linear(in_features=256, out_features=384, bias=True)\n",
       "          (to_out): Linear(in_features=128, out_features=256, bias=True)\n",
       "        )\n",
       "      )\n",
       "      (5): UpSample(\n",
       "        (upconv): ConvTranspose2d(256, 256, kernel_size=(4, 4), stride=(2, 2), padding=(1, 1))\n",
       "      )\n",
       "      (6): UpBlock(\n",
       "        (convres): ConvResBlock(\n",
       "          (norm1): GroupNorm(8, 512, eps=1e-05, affine=True)\n",
       "          (act1): GELU(approximate=none)\n",
       "          (conv1): Conv2d(512, 256, kernel_size=(3, 3), stride=(1, 1), padding=(1, 1))\n",
       "          (norm2): GroupNorm(8, 256, eps=1e-05, affine=True)\n",
       "          (act2): GELU(approximate=none)\n",
       "          (conv2): Conv2d(256, 256, kernel_size=(3, 3), stride=(1, 1), padding=(1, 1))\n",
       "          (res): Conv2d(512, 256, kernel_size=(1, 1), stride=(1, 1))\n",
       "          (time_ln): Linear(in_features=256, out_features=256, bias=True)\n",
       "          (time_act): GELU(approximate=none)\n",
       "          (dropout): Dropout(p=0.1, inplace=False)\n",
       "        )\n",
       "        (attn): Identity()\n",
       "      )\n",
       "      (7): UpBlock(\n",
       "        (convres): ConvResBlock(\n",
       "          (norm1): GroupNorm(8, 512, eps=1e-05, affine=True)\n",
       "          (act1): GELU(approximate=none)\n",
       "          (conv1): Conv2d(512, 128, kernel_size=(3, 3), stride=(1, 1), padding=(1, 1))\n",
       "          (norm2): GroupNorm(8, 128, eps=1e-05, affine=True)\n",
       "          (act2): GELU(approximate=none)\n",
       "          (conv2): Conv2d(128, 128, kernel_size=(3, 3), stride=(1, 1), padding=(1, 1))\n",
       "          (res): Conv2d(512, 128, kernel_size=(1, 1), stride=(1, 1))\n",
       "          (time_ln): Linear(in_features=256, out_features=128, bias=True)\n",
       "          (time_act): GELU(approximate=none)\n",
       "          (dropout): Dropout(p=0.1, inplace=False)\n",
       "        )\n",
       "        (attn): Identity()\n",
       "      )\n",
       "      (8): UpSample(\n",
       "        (upconv): ConvTranspose2d(128, 128, kernel_size=(4, 4), stride=(2, 2), padding=(1, 1))\n",
       "      )\n",
       "      (9): UpBlock(\n",
       "        (convres): ConvResBlock(\n",
       "          (norm1): GroupNorm(8, 256, eps=1e-05, affine=True)\n",
       "          (act1): GELU(approximate=none)\n",
       "          (conv1): Conv2d(256, 128, kernel_size=(3, 3), stride=(1, 1), padding=(1, 1))\n",
       "          (norm2): GroupNorm(8, 128, eps=1e-05, affine=True)\n",
       "          (act2): GELU(approximate=none)\n",
       "          (conv2): Conv2d(128, 128, kernel_size=(3, 3), stride=(1, 1), padding=(1, 1))\n",
       "          (res): Conv2d(256, 128, kernel_size=(1, 1), stride=(1, 1))\n",
       "          (time_ln): Linear(in_features=256, out_features=128, bias=True)\n",
       "          (time_act): GELU(approximate=none)\n",
       "          (dropout): Dropout(p=0.1, inplace=False)\n",
       "        )\n",
       "        (attn): Identity()\n",
       "      )\n",
       "      (10): UpBlock(\n",
       "        (convres): ConvResBlock(\n",
       "          (norm1): GroupNorm(8, 256, eps=1e-05, affine=True)\n",
       "          (act1): GELU(approximate=none)\n",
       "          (conv1): Conv2d(256, 64, kernel_size=(3, 3), stride=(1, 1), padding=(1, 1))\n",
       "          (norm2): GroupNorm(8, 64, eps=1e-05, affine=True)\n",
       "          (act2): GELU(approximate=none)\n",
       "          (conv2): Conv2d(64, 64, kernel_size=(3, 3), stride=(1, 1), padding=(1, 1))\n",
       "          (res): Conv2d(256, 64, kernel_size=(1, 1), stride=(1, 1))\n",
       "          (time_ln): Linear(in_features=256, out_features=64, bias=True)\n",
       "          (time_act): GELU(approximate=none)\n",
       "          (dropout): Dropout(p=0.1, inplace=False)\n",
       "        )\n",
       "        (attn): Identity()\n",
       "      )\n",
       "      (11): UpSample(\n",
       "        (upconv): ConvTranspose2d(64, 64, kernel_size=(4, 4), stride=(2, 2), padding=(1, 1))\n",
       "      )\n",
       "      (12): UpBlock(\n",
       "        (convres): ConvResBlock(\n",
       "          (norm1): GroupNorm(8, 128, eps=1e-05, affine=True)\n",
       "          (act1): GELU(approximate=none)\n",
       "          (conv1): Conv2d(128, 64, kernel_size=(3, 3), stride=(1, 1), padding=(1, 1))\n",
       "          (norm2): GroupNorm(8, 64, eps=1e-05, affine=True)\n",
       "          (act2): GELU(approximate=none)\n",
       "          (conv2): Conv2d(64, 64, kernel_size=(3, 3), stride=(1, 1), padding=(1, 1))\n",
       "          (res): Conv2d(128, 64, kernel_size=(1, 1), stride=(1, 1))\n",
       "          (time_ln): Linear(in_features=256, out_features=64, bias=True)\n",
       "          (time_act): GELU(approximate=none)\n",
       "          (dropout): Dropout(p=0.1, inplace=False)\n",
       "        )\n",
       "        (attn): Identity()\n",
       "      )\n",
       "      (13): UpBlock(\n",
       "        (convres): ConvResBlock(\n",
       "          (norm1): GroupNorm(8, 128, eps=1e-05, affine=True)\n",
       "          (act1): GELU(approximate=none)\n",
       "          (conv1): Conv2d(128, 64, kernel_size=(3, 3), stride=(1, 1), padding=(1, 1))\n",
       "          (norm2): GroupNorm(8, 64, eps=1e-05, affine=True)\n",
       "          (act2): GELU(approximate=none)\n",
       "          (conv2): Conv2d(64, 64, kernel_size=(3, 3), stride=(1, 1), padding=(1, 1))\n",
       "          (res): Conv2d(128, 64, kernel_size=(1, 1), stride=(1, 1))\n",
       "          (time_ln): Linear(in_features=256, out_features=64, bias=True)\n",
       "          (time_act): GELU(approximate=none)\n",
       "          (dropout): Dropout(p=0.1, inplace=False)\n",
       "        )\n",
       "        (attn): Identity()\n",
       "      )\n",
       "    )\n",
       "    (final_norm): GroupNorm(8, 64, eps=1e-05, affine=True)\n",
       "    (final_act): GELU(approximate=none)\n",
       "    (final_conv): Conv2d(64, 64, kernel_size=(3, 3), stride=(1, 1), padding=(1, 1))\n",
       "    (final_res): Identity()\n",
       "    (out_conv): Conv2d(64, 3, kernel_size=(1, 1), stride=(1, 1))\n",
       "  )\n",
       ")"
      ]
     },
     "execution_count": 26,
     "metadata": {},
     "output_type": "execute_result"
    }
   ],
   "source": [
    "# load data\n",
    "transform = transforms.Compose([transforms.ToTensor()])\n",
    "train_dataset = datasets.CIFAR10(root='../../dataset', train=True, transform=transform)\n",
    "train_dataloader = DataLoader(train_dataset, batch_size=128)\n",
    "optimizer = torch.optim.AdamW(diffusion.parameters(), lr=2e-5)\n",
    "scheduler = torch.optim.lr_scheduler.CosineAnnealingWarmRestarts(optimizer, T_0=2000)\n",
    "diffusion.to(torch.device(\"cuda\"))"
   ]
  },
  {
   "cell_type": "code",
   "execution_count": 27,
   "metadata": {},
   "outputs": [
    {
     "name": "stdout",
     "output_type": "stream",
     "text": [
      "0th epoch training...\n"
     ]
    },
    {
     "name": "stderr",
     "output_type": "stream",
     "text": [
      "100%|██████████| 391/391 [02:39<00:00,  2.45it/s]\n"
     ]
    },
    {
     "name": "stdout",
     "output_type": "stream",
     "text": [
      "train_loss: 0.2723146378993988, lr: [2e-05]\n"
     ]
    },
    {
     "name": "stderr",
     "output_type": "stream",
     "text": [
      "1000it [03:09,  5.27it/s]\n"
     ]
    },
    {
     "name": "stdout",
     "output_type": "stream",
     "text": [
      "1th epoch training...\n"
     ]
    },
    {
     "name": "stderr",
     "output_type": "stream",
     "text": [
      "100%|██████████| 391/391 [02:40<00:00,  2.43it/s]\n"
     ]
    },
    {
     "name": "stdout",
     "output_type": "stream",
     "text": [
      "train_loss: 0.10120228677988052, lr: [1.9999987662997034e-05]\n"
     ]
    },
    {
     "name": "stderr",
     "output_type": "stream",
     "text": [
      "1000it [03:10,  5.25it/s]\n"
     ]
    },
    {
     "name": "stdout",
     "output_type": "stream",
     "text": [
      "2th epoch training...\n"
     ]
    },
    {
     "name": "stderr",
     "output_type": "stream",
     "text": [
      " 30%|██▉       | 117/391 [00:48<01:53,  2.41it/s]"
     ]
    }
   ],
   "source": [
    "best_loss = 100\n",
    "diffusion.load_state_dict(torch.load('lastmodel.pt'))\n",
    "for epoch in range(1000):\n",
    "\t# train\n",
    "\tprint(f\"{epoch}th epoch training...\")\n",
    "\tloss_total = 0\n",
    "\tfor batch_idx, batch in enumerate(tqdm(train_dataloader)):\n",
    "\t\tdata = batch[0].to(\"cuda\")\n",
    "\t\toptimizer.zero_grad()\n",
    "\t\tloss = diffusion(data)\n",
    "\t\tloss.backward()\n",
    "\t\toptimizer.step()\n",
    "\t\tloss_total += loss\n",
    "\ttrain_avg_loss = loss_total/len(train_dataloader)\n",
    "\tprint(f\"train_loss: {train_avg_loss}, lr: {scheduler.get_last_lr()}\")\n",
    "\tloss_total = 0\n",
    "\tscheduler.step()\n",
    "\t# eval\n",
    "\tif train_avg_loss < best_loss:\n",
    "\t\tbest_loss = train_avg_loss\n",
    "\t\twith torch.no_grad():\n",
    "\t\t\tx = diffusion.sample(16,3,128)\n",
    "\t\timgs_grid = make_grid(x, 4, 4)\n",
    "\t\timgs_grid.save(f\"img/{epoch}.png\")\n",
    "\t\ttorch.save(diffusion.state_dict(), f\"lastmodel.pt\")"
   ]
  }
 ],
 "metadata": {
  "kernelspec": {
   "display_name": "ml",
   "language": "python",
   "name": "python3"
  },
  "language_info": {
   "codemirror_mode": {
    "name": "ipython",
    "version": 3
   },
   "file_extension": ".py",
   "mimetype": "text/x-python",
   "name": "python",
   "nbconvert_exporter": "python",
   "pygments_lexer": "ipython3",
   "version": "3.9.19"
  }
 },
 "nbformat": 4,
 "nbformat_minor": 2
}
